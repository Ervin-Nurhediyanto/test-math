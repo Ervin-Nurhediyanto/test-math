{
 "cells": [
  {
   "cell_type": "code",
   "execution_count": null,
   "metadata": {},
   "outputs": [],
   "source": [
    "from bangun_datar.persegi import Formula\n",
    "\n",
    "s = float(input(\"Input panjang sisi: \"))\n",
    "f = Formula(s)\n",
    "\n",
    "print(\"Luas = {} \\nKeliling = {}\"\n",
    "      .format(f.luas(), f.keliling()))\n"
   ]
  },
  {
   "cell_type": "code",
   "execution_count": null,
   "metadata": {},
   "outputs": [],
   "source": [
    "from bangun_datar.persegi_panjang import Formula\n",
    "\n",
    "p = float(input(\"Input panjang: \"))\n",
    "l = float(input(\"Input lebar: \"))\n",
    "f = Formula(p, l)\n",
    "\n",
    "print(\"Luas = {} \\nKeliling = {}\"\n",
    "      .format(f.luas(), f.keliling()))\n"
   ]
  },
  {
   "cell_type": "code",
   "execution_count": null,
   "metadata": {},
   "outputs": [],
   "source": [
    "from bangun_datar.lingkaran import Formula\n",
    "\n",
    "r = float(input(\"Input jari-jari: \"))\n",
    "f = Formula(r)\n",
    "\n",
    "print(\"Luas = {} \\nKeliling = {}\"\n",
    "      .format(f.luas(), f.keliling()))\n"
   ]
  },
  {
   "cell_type": "code",
   "execution_count": null,
   "metadata": {},
   "outputs": [],
   "source": [
    "from bangun_datar.belah_ketupat import Formula\n",
    "\n",
    "s = float(input(\"Input panjang sisi: \"))\n",
    "d1 = float(input(\"Input panjang diagonal-1: \"))\n",
    "d2 = float(input(\"Input panjang diagonal-2: \"))\n",
    "f = Formula(s, d1, d2)\n",
    "\n",
    "print(\"Luas = {} \\nKeliling = {}\"\n",
    "      .format(f.luas(), f.keliling()))\n"
   ]
  },
  {
   "cell_type": "code",
   "execution_count": 1,
   "metadata": {},
   "outputs": [
    {
     "name": "stdout",
     "output_type": "stream",
     "text": [
      "No 1. Sebuah persegi memiliki panjang sisi 7. Berapakah luas persegi tersebut?\n",
      "No 2. Sebuah persegi panjang memiliki panjang 10 dan lebar 7. Berapakah keliling persegi panjang tersebut?\n",
      "No 3. Sebuah belah ketupat memiliki panjang sisi 3 dengan panjang diagonal 1 dan 1. Berapakah luas belah ketupat tersebut?\n",
      "No 4. Sebuah lingkaran memiliki jari-jari 8. Berapakah keliling lingkaran tersebut? (pi = 3.14)\n",
      "No 5. Sebuah belah ketupat memiliki panjang sisi 1 dengan panjang diagonal 8 dan 8. Berapakah luas belah ketupat tersebut?\n",
      "Score anda: 0\n"
     ]
    }
   ],
   "source": [
    "import random\n",
    "from soal.main import *\n",
    "\n",
    "score = 0\n",
    "soal = []\n",
    "list_number = [x for x in range(8)]\n",
    "random.shuffle(list_number)\n",
    "\n",
    "for i in range(5):\n",
    "  # Parameter\n",
    "  s = random.randint(1, 10)\n",
    "  p = random.randint(1, 10)\n",
    "  l = random.randint(1, 10)\n",
    "  r = random.randint(1, 10)\n",
    "  d1 = random.randint(1, 10)\n",
    "  d2 = random.randint(1, 10)\n",
    "\n",
    "  if p < l:\n",
    "    p, l = l, p\n",
    "  elif p == l:\n",
    "    p += 1\n",
    "\n",
    "  print(\"No {}.\".format(i + 1), end=\" \")\n",
    "  if (list_number[i] == 0 or list_number[i] == 1):\n",
    "    soal.append(SoalPersegi(s))\n",
    "  elif (list_number[i] == 2 or list_number[i] == 3):\n",
    "    soal.append(SoalPersegiPanjang(p, l))\n",
    "  elif (list_number[i] == 4 or list_number[i] == 5):\n",
    "    soal.append(SoalLingkaran(r))\n",
    "  elif (list_number[i] == 6 or list_number[i] == 7):\n",
    "    soal.append(SoalBelahKetupat(s, d1, d1))\n",
    "\n",
    "  if (i % 2 == 0):\n",
    "    print(soal[i].q_luas())\n",
    "  else:\n",
    "    print(soal[i].q_kell())\n",
    "\n",
    "  ans_is_not_numb = True\n",
    "  while ans_is_not_numb:\n",
    "      try:\n",
    "        answer = float(input(\"Jawab: \"))\n",
    "        ans_is_not_numb = False\n",
    "        if (i % 2 == 0):\n",
    "          score += soal[i].a_luas(answer)\n",
    "        else:\n",
    "          score += soal[i].a_kell(answer)\n",
    "      except:\n",
    "        print(\"Jawaban harus angka\")\n",
    "\n",
    "print(\"Score anda: {}\".format(score))"
   ]
  },
  {
   "cell_type": "code",
   "execution_count": 4,
   "metadata": {},
   "outputs": [
    {
     "name": "stdout",
     "output_type": "stream",
     "text": [
      "[{'nama': 'saya', 'nilai': 80}, {'nama': 'dia', 'nilai': 100}, {'nama': 'saya juga', 'nilai': 80}]\n",
      "[{'nama': 'saya', 'nilai': 80}, {'nama': 'saya juga', 'nilai': 80}]\n"
     ]
    }
   ],
   "source": [
    "list = [\n",
    "\t{\n",
    "\t\t\"nama\": \"saya\",\n",
    "\t\t\"nilai\": 80\n",
    "\t},\n",
    "\t{\n",
    "\t\t\"nama\": \"dia\",\n",
    "\t\t\"nilai\": 100\n",
    "\t},\n",
    " \t{\n",
    "\t\t\"nama\": \"saya juga\",\n",
    "\t\t\"nilai\": 80\n",
    "\t},\n",
    "]\n",
    "\n",
    "print(list)\n",
    "list_filter = []\n",
    "\n",
    "for i in range(len(list)):\n",
    "    if \"say\" in list[i][\"nama\"]:\n",
    "        list_filter.append(list[i])\n",
    "\n",
    "print(list_filter)"
   ]
  },
  {
   "cell_type": "code",
   "execution_count": null,
   "metadata": {},
   "outputs": [],
   "source": []
  }
 ],
 "metadata": {
  "kernelspec": {
   "display_name": "Python 3.9.12 ('base')",
   "language": "python",
   "name": "python3"
  },
  "language_info": {
   "codemirror_mode": {
    "name": "ipython",
    "version": 3
   },
   "file_extension": ".py",
   "mimetype": "text/x-python",
   "name": "python",
   "nbconvert_exporter": "python",
   "pygments_lexer": "ipython3",
   "version": "3.9.12"
  },
  "orig_nbformat": 4,
  "vscode": {
   "interpreter": {
    "hash": "a5d7ea954eec3ed6cfa5becdd98622f51c339220edc95743c61d2e2e787282b3"
   }
  }
 },
 "nbformat": 4,
 "nbformat_minor": 2
}
